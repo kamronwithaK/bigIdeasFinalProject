{
 "cells": [
  {
   "cell_type": "markdown",
   "id": "e7cec8b3",
   "metadata": {},
   "source": [
    "# City Owned Properties\n",
    "### Kamron Gross"
   ]
  }
 ],
 "metadata": {
  "language_info": {
   "name": "python"
  }
 },
 "nbformat": 4,
 "nbformat_minor": 5
}
